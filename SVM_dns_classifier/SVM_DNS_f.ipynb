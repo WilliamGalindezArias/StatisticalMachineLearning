{
 "cells": [
  {
   "cell_type": "markdown",
   "metadata": {},
   "source": [
    "## Statistical Machine Learning. Support Vector Classification"
   ]
  },
  {
   "cell_type": "markdown",
   "metadata": {},
   "source": [
    "#### SVM library import"
   ]
  },
  {
   "cell_type": "code",
   "execution_count": 7,
   "metadata": {
    "collapsed": false
   },
   "outputs": [],
   "source": [
    "from sklearn import svm\n",
    "import numpy as np\n",
    "from sklearn.datasets import load_svmlight_file\n",
    "import pandas as pd\n",
    "import matplotlib.pyplot as plt"
   ]
  },
  {
   "cell_type": "markdown",
   "metadata": {},
   "source": [
    "#### Support Vector Machine Functions\n"
   ]
  },
  {
   "cell_type": "code",
   "execution_count": 56,
   "metadata": {
    "collapsed": false
   },
   "outputs": [],
   "source": [
    "    def load_training_data():\n",
    "        trn_kernel_output, training_y_labels = load_svmlight_file(\"trn_kernel_mat.svmlight\")\n",
    "        trn_kernel_output = trn_kernel_output.todense()\n",
    "        return trn_kernel_output, training_y_labels\n",
    "        \n",
    "    def load_validation_data():\n",
    "        val_kernel_output, val_y_labels = load_svmlight_file(\"val_kernel_mat.svmlight\")\n",
    "        val_kernel_output = val_kernel_output.todense()\n",
    "        return val_kernel_output, val_y_labels\n",
    "        \n",
    "    def load_test_data():\n",
    "        test_kernel_output, test_y_labels = load_svmlight_file(\"tst_kernel_mat.svmlight\")\n",
    "        test_kernel_output = test_kernel_output.todense()\n",
    "        return test_kernel_output, test_y_labels\n",
    "        \n",
    "    def model_training(C, kernel_output, y_label):\n",
    "        svm_classifier = svm.SVC(C, kernel='precomputed')\n",
    "        svm_classifier.fit(kernel_output,y_label)\n",
    "        training_prediction = svm_classifier.predict(kernel_output)\n",
    "        print(\"the n support vectors :\", svm_classifier.n_support_, \"for C: \", C)\n",
    "        return svm_classifier\n",
    "\n",
    "    def model_prediction(svm_classifier, data):\n",
    "        the_prediction = svm_classifier.predict(data)\n",
    "        return the_prediction\n",
    "        \n",
    "    def model_empirical_error(the_prediction, y_labels):\n",
    "        delta_output = the_prediction-y_labels\n",
    "        error_svm = np.count_nonzero(delta_output)/len(the_prediction)\n",
    "        print(\"  And the error is: \", error_svm)\n",
    "        return error_svm\n",
    "    def iterator(data_1, data_2):\n",
    "        c = [0.01, 0.1, 1, 10, 100]\n",
    "        for c_iterator in c:\n",
    "            the_classifier = model_training(c_iterator, trn_x, trn_y)\n",
    "            a_prediction = model_prediction(the_classifier, data_1)\n",
    "            error = model_empirical_error(a_prediction, data_2)\n",
    "            dict_for_values_training[c_iterator] = error\n",
    "            #print(dict_for_values_training)\n",
    "        return dict_for_training_values\n",
    "        \n",
    "    \n",
    "    "
   ]
  },
  {
   "cell_type": "markdown",
   "metadata": {},
   "source": [
    "#### Data Collection\n",
    "##### Training error for different C-values {0.01, 0.1, 1, 10, 100}\n"
   ]
  },
  {
   "cell_type": "code",
   "execution_count": null,
   "metadata": {
    "collapsed": true
   },
   "outputs": [],
   "source": [
    "#load the data\n",
    "trn_x, trn_y = load_training_data()\n",
    "#train the model for different C-values\n",
    "training_results = iterator(trn_x, trn_y)"
   ]
  },
  {
   "cell_type": "markdown",
   "metadata": {},
   "source": [
    "#### Validation Test. (Using Validation Data)"
   ]
  },
  {
   "cell_type": "code",
   "execution_count": null,
   "metadata": {
    "collapsed": true
   },
   "outputs": [],
   "source": [
    "# Load the validation test\n",
    "val_x, val_y = load_validation_data()\n",
    "validation_results = iterator(val_x, val_y)\n"
   ]
  },
  {
   "cell_type": "markdown",
   "metadata": {},
   "source": [
    "#### Testing the classifier with Test Data and the Best C from the previous Result"
   ]
  },
  {
   "cell_type": "code",
   "execution_count": 62,
   "metadata": {
    "collapsed": false
   },
   "outputs": [
    {
     "name": "stdout",
     "output_type": "stream",
     "text": [
      "the n support vectors : [265 279] for C:  1\n",
      "  And the error is:  0.0785\n"
     ]
    }
   ],
   "source": [
    "tst_x, tst_y = load_test_data()\n",
    "c = 1\n",
    "test_prediction = model_prediction(model_training(c, trn_x, trn_y), tst_x)\n",
    "test_error = model_empirical_error(test_prediction, tst_y)"
   ]
  },
  {
   "cell_type": "markdown",
   "metadata": {},
   "source": [
    "### For the Best C = 1, The Rs = 0.0785"
   ]
  },
  {
   "cell_type": "markdown",
   "metadata": {},
   "source": [
    "#### Results consolidation "
   ]
  },
  {
   "cell_type": "code",
   "execution_count": 61,
   "metadata": {
    "collapsed": false
   },
   "outputs": [
    {
     "data": {
      "text/html": [
       "<div>\n",
       "<table border=\"1\" class=\"dataframe\">\n",
       "  <thead>\n",
       "    <tr style=\"text-align: right;\">\n",
       "      <th></th>\n",
       "      <th>Training Error for Each C</th>\n",
       "      <th>Validation Error for each C</th>\n",
       "      <th>Number of Support Vector Error for each C</th>\n",
       "    </tr>\n",
       "  </thead>\n",
       "  <tbody>\n",
       "    <tr>\n",
       "      <th>0.01</th>\n",
       "      <td>0.245</td>\n",
       "      <td>0.256</td>\n",
       "      <td>[500  500]</td>\n",
       "    </tr>\n",
       "    <tr>\n",
       "      <th>0.10</th>\n",
       "      <td>0.132</td>\n",
       "      <td>0.144</td>\n",
       "      <td>[437  439]</td>\n",
       "    </tr>\n",
       "    <tr>\n",
       "      <th>1.00</th>\n",
       "      <td>0.038</td>\n",
       "      <td>0.068</td>\n",
       "      <td>[265  279]</td>\n",
       "    </tr>\n",
       "    <tr>\n",
       "      <th>10.00</th>\n",
       "      <td>0.002</td>\n",
       "      <td>0.106</td>\n",
       "      <td>[202  184]</td>\n",
       "    </tr>\n",
       "    <tr>\n",
       "      <th>100.00</th>\n",
       "      <td>0.000</td>\n",
       "      <td>0.114</td>\n",
       "      <td>[199 177]</td>\n",
       "    </tr>\n",
       "  </tbody>\n",
       "</table>\n",
       "</div>"
      ],
      "text/plain": [
       "        Training Error for Each C  Validation Error for each C  \\\n",
       "0.01                        0.245                        0.256   \n",
       "0.10                        0.132                        0.144   \n",
       "1.00                        0.038                        0.068   \n",
       "10.00                       0.002                        0.106   \n",
       "100.00                      0.000                        0.114   \n",
       "\n",
       "       Number of Support Vector Error for each C  \n",
       "0.01                                  [500  500]  \n",
       "0.10                                  [437  439]  \n",
       "1.00                                  [265  279]  \n",
       "10.00                                 [202  184]  \n",
       "100.00                                 [199 177]  "
      ]
     },
     "execution_count": 61,
     "metadata": {},
     "output_type": "execute_result"
    }
   ],
   "source": [
    "training_values = {0.01: 0.245, 0.1: 0.132, 1: 0.038, 10: 0.002, 100: 0.0}\n",
    "table_c_values = pd.DataFrame.from_dict(training_values, orient='index')\n",
    "table_c_values.columns = ['Training Error for Each C']\n",
    "validation_data ={0.01: 0.256, 0.1: 0.144, 1: 0.068, 10: 0.106, 100: 0.114}\n",
    "table_c_values_val = pd.DataFrame.from_dict(validation_data, orient='index')\n",
    "table_c_values_val.columns = ['Validation Error for each C']\n",
    "support_vectors_each_c ={0.01: \"[500  500]\", 0.1: \"[437  439]\", 1: \"[265  279]\", 10: \"[202  184]\", 100: \"[199 177]\"}\n",
    "table_s_v = pd.DataFrame.from_dict(support_vectors_each_c, orient = 'index')\n",
    "table_s_v.columns = ['Number of Support Vector Error for each C']\n",
    "result_table = pd.concat([table_c_values, table_c_values_val, table_s_v], axis=1, join_axes=[table_c_values.index])\n",
    "result_table"
   ]
  },
  {
   "cell_type": "markdown",
   "metadata": {},
   "source": [
    "#### Training Error as a function of C"
   ]
  },
  {
   "cell_type": "code",
   "execution_count": 81,
   "metadata": {
    "collapsed": false
   },
   "outputs": [
    {
     "data": {
      "image/png": "[encoded data removed]",
      "text/plain": [
       "<matplotlib.figure.Figure at 0x114b8d358>"
      ]
     },
     "metadata": {},
     "output_type": "display_data"
    }
   ],
   "source": [
    "fig = plt.figure(figsize=(15,10))\n",
    "plt.plot(table_c_values, 'r', label = \"Training Error\") \n",
    "plt.legend(loc='upper right')\n",
    "plt.plot(table_c_values_val, 'b', label = 'Validation Error') \n",
    "plt.legend(loc='upper right')\n",
    "plt.title('Training Error and Validation Error for Different C Values')\n",
    "plt.xlabel('C values {0.01, 0.10, 1.0, 10, 100}')\n",
    "plt.ylabel('Error Values')\n",
    "plt.xscale('log')\n",
    "plt.grid()\n",
    "plt.show()"
   ]
  },
  {
   "cell_type": "markdown",
   "metadata": {},
   "source": [
    "#### Validation Error as a Function of C"
   ]
  },
  {
   "cell_type": "code",
   "execution_count": null,
   "metadata": {
    "collapsed": true
   },
   "outputs": [],
   "source": []
  },
  {
   "cell_type": "markdown",
   "metadata": {},
   "source": [
    "#### Training and Validation errors as function of C"
   ]
  },
  {
   "cell_type": "code",
   "execution_count": null,
   "metadata": {
    "collapsed": true
   },
   "outputs": [],
   "source": []
  },
  {
   "cell_type": "code",
   "execution_count": null,
   "metadata": {
    "collapsed": true
   },
   "outputs": [],
   "source": []
  }
 ],
 "metadata": {
  "kernelspec": {
   "display_name": "Python 3",
   "language": "python",
   "name": "python3"
  },
  "language_info": {
   "codemirror_mode": {
    "name": "ipython",
    "version": 3
   },
   "file_extension": ".py",
   "mimetype": "text/x-python",
   "name": "python",
   "nbconvert_exporter": "python",
   "pygments_lexer": "ipython3",
   "version": "3.6.0"
  }
 },
 "nbformat": 4,
 "nbformat_minor": 2
}
